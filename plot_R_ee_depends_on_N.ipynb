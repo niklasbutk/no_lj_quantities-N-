{
 "cells": [
  {
   "cell_type": "markdown",
   "metadata": {},
   "source": [
    "This code creates a plot for averaged (the last 6/10) end-to-end-distance for a certain N in dependence of N (=Number of Monomers)."
   ]
  },
  {
   "cell_type": "code",
   "execution_count": 1,
   "metadata": {},
   "outputs": [],
   "source": [
    "import matplotlib.pyplot as plt\n",
    "import numpy as np\n",
    "import math\n",
    "from scipy.optimize import curve_fit\n",
    "import csv\n",
    "\n",
    "#load parameters from subfolder (each has the same content as others; exception: Number of Monomers)\n",
    "import os\n",
    "os.chdir('10')\n",
    "import initial_parameters\n",
    "os.chdir('..')\n",
    "\n",
    "Kuhn_length_b = initial_parameters.Kuhn_length_b\n",
    "tau_rouse_theory = initial_parameters.tau_rouse_theory"
   ]
  },
  {
   "cell_type": "code",
   "execution_count": 2,
   "metadata": {},
   "outputs": [],
   "source": [
    "#create lists for quantities for graphical representation (plots)\n",
    "list_of_Monomers = []\n",
    "list_of_Bonds = []\n",
    "list_of_sq_end_to_end_distances = []\n",
    "\n",
    "\n",
    "averaged_quantities = open('averages_for_plot','r')\n",
    "lines = csv.reader(averaged_quantities, delimiter='\t')\n",
    "\n",
    "for line in lines:\n",
    "\n",
    "        #time has to be multiplied by dt, otherwise it is number of timesteps\n",
    "        list_of_Monomers.append(float(line[0]))\n",
    "        list_of_Bonds.append(float(line[0]) - 1)\n",
    "        list_of_sq_end_to_end_distances.append(float(line[1]))\n",
    "\n",
    "#close the file\n",
    "averaged_quantities.close()"
   ]
  },
  {
   "cell_type": "markdown",
   "metadata": {},
   "source": [
    "# Create the plot"
   ]
  },
  {
   "cell_type": "code",
   "execution_count": 3,
   "metadata": {},
   "outputs": [
    {
     "name": "stdout",
     "output_type": "stream",
     "text": [
      "b^2 = [2.97253237] +/- [0.02715532]\n"
     ]
    },
    {
     "data": {
      "image/png": "[encoded data removed]",
      "text/plain": [
       "<Figure size 432x288 with 1 Axes>"
      ]
     },
     "metadata": {},
     "output_type": "display_data"
    }
   ],
   "source": [
    "#covert arrays into numpy arrays and use short names (use N and y)\n",
    "N = np.array(list_of_Monomers)\n",
    "list_of_Bonds = np.array(list_of_Bonds)\n",
    "y = np.array(list_of_sq_end_to_end_distances)\n",
    "\n",
    "#define fit function; take independent variable as first argument\n",
    "def func_sq_ee_dinstance_in_dependence_of_N(N, b_squared):\n",
    "    \n",
    "    #Attention: <R_ee^2> depends on BONDS!\n",
    "    return N*b_squared\n",
    "\n",
    "#fit the curve using function\n",
    "popt, pcov = curve_fit(func_sq_ee_dinstance_in_dependence_of_N, N, y)\n",
    "\n",
    "#calculate standard deviation from estimated covariance\n",
    "perr = np.sqrt(np.diag(pcov))\n",
    "\n",
    "print (\"b^2 = \"+str(popt)+\" +/- \"+str(perr))\n",
    "\n",
    "#plot the results, #Attention: <R_ee^2> depends on BONDS!\n",
    "plt.plot(N, y, 'b.', label='data')\n",
    "plt.plot(N, func_sq_ee_dinstance_in_dependence_of_N(N, *popt), 'r-', label=('fit'))\n",
    "\n",
    "#list_of_Bonds = N-1 (list of Monomers, but every element is decreased by 1)\n",
    "plt.plot(N, (list_of_Bonds)*Kuhn_length_b**2, 'g--', label=('theory'))\n",
    "\n",
    "#save the plot\n",
    "plt.legend(loc='best')\n",
    "\n",
    "plt.xlabel(r'$N$')\n",
    "plt.ylabel(r'$<R_{\\mathrm{ee}}^2(N)>$')\n",
    "plt.draw()\n",
    "plt.savefig('sq_distance_in_dependence_of_N.png')\n",
    "plt.show()\n",
    "plt.close()"
   ]
  },
  {
   "cell_type": "code",
   "execution_count": null,
   "metadata": {},
   "outputs": [],
   "source": []
  }
 ],
 "metadata": {
  "kernelspec": {
   "display_name": "Python 3",
   "language": "python",
   "name": "python3"
  },
  "language_info": {
   "codemirror_mode": {
    "name": "ipython",
    "version": 3
   },
   "file_extension": ".py",
   "mimetype": "text/x-python",
   "name": "python",
   "nbconvert_exporter": "python",
   "pygments_lexer": "ipython3",
   "version": "3.7.4"
  }
 },
 "nbformat": 4,
 "nbformat_minor": 2
}
